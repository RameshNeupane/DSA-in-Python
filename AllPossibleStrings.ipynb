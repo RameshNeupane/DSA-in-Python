{
 "cells": [
  {
   "cell_type": "markdown",
   "metadata": {},
   "source": [
    "### Python program that outputs all possible strings formed by using 'c' , 'a', 't', 'd', 'o', 'g'  exactly once in the string."
   ]
  },
  {
   "cell_type": "code",
   "execution_count": 1,
   "metadata": {},
   "outputs": [
    {
     "name": "stdout",
     "output_type": "stream",
     "text": [
      "Input list: ['c', 'a', 't', 'd', 'o', 'g']\n",
      "word_set: {'ctagod', 'otgdac', 'doagct', 'dtogac', 'gatdco', 'otgadc', 'toadgc', 'dgoact', 'tdcoag', 'agtdco', 'dgocat', 'gctoda', 'tdgaoc', 'atgdco', 'ctdago', 'acotgd', 'ctgaod', 'dtacog', 'otadgc', 'adcotg', 'doctga', 'agctod', 'coadgt', 'gcoatd', 'dacotg', 'caogtd', 'tcoagd', 'ocagtd', 'cdtaog', 'aocdgt', 'tagcdo', 'agdcto', 'togdca', 'coatdg', 'tdgcao', 'dcatog', 'ocdgat', 'goacdt', 'gdacot', 'gdtcoa', 'atdogc', 'toagdc', 'dtgoca', 'agtocd', 'cgdtao', 'atgcod', 'ctagdo', 'dotgac', 'otgacd', 'tdaogc', 'dactgo', 'gtcdao', 'tgocda', 'tacogd', 'gdcato', 'cgtaod', 'datogc', 'gcaotd', 'odactg', 'dgatco', 'cagotd', 'gcoadt', 'gtoacd', 'cotgad', 'dogcta', 'gtocda', 'dtgoac', 'gcdoat', 'aogdct', 'aodtcg', 'odtgac', 'tgodca', 'todcga', 'tgcado', 'oatgdc', 'gtdaco', 'ctdaog', 'gcotda', 'dtcoag', 'goctda', 'tocdag', 'caotdg', 'ogtcad', 'tdgoca', 'dtcgao', 'aotcgd', 'gacotd', 'gctdao', 'oadcgt', 'atcodg', 'gatcod', 'aoctdg', 'atcdog', 'tcdaog', 'ogacdt', 'cotdag', 'tacgod', 'cotadg', 'dcgaot', 'cdoatg', 'acdgot', 'cgodat', 'tdgcoa', 'oagdct', 'ocdtga', 'docatg', 'odctga', 'gtodac', 'tgocad', 'cdaotg', 'actdog', 'tdcago', 'dgcoat', 'goctad', 'catgdo', 'gdotca', 'ocdatg', 'godcat', 'ogadct', 'tcadog', 'atcgod', 'daocgt', 'oadtcg', 'otacgd', 'dctoag', 'cadotg', 'cgoatd', 'atdcog', 'gdocta', 'tagdco', 'coagdt', 'cdoagt', 'gdoact', 'otagdc', 'gadotc', 'dcgtao', 'dgoatc', 'agcdto', 'oatcdg', 'goatdc', 'ocadgt', 'octagd', 'oatgcd', 'otcgad', 'odctag', 'odtcag', 'dagtoc', 'goadct', 'adgotc', 'ogtcda', 'ogdcat', 'adcogt', 'cgotda', 'tagocd', 'doatgc', 'ocgdta', 'gtdoac', 'agodtc', 'dtagco', 'cdtago', 'dtagoc', 'dgacto', 'tcogda', 'cadogt', 'dctgoa', 'oagtcd', 'cgtdoa', 'daogct', 'tdoacg', 'cdtgoa', 'atcgdo', 'agcdot', 'atdgco', 'gcdaot', 'gadcto', 'odgatc', 'codgat', 'tdoagc', 'dcgoat', 'atocgd', 'todagc', 'cadgot', 'actdgo', 'gacodt', 'aotdgc', 'ocgdat', 'ogadtc', 'cadtgo', 'ogactd', 'agtcod', 'gctoad', 'caogdt', 'cdgato', 'odtacg', 'gcatdo', 'dgtoac', 'gocdta', 'ctodag', 'dgtcoa', 'dgcato', 'gdtcao', 'codagt', 'dogatc', 'cogadt', 'dcogat', 'dgaotc', 'oagctd', 'dgocta', 'agotdc', 'atgcdo', 'cdotga', 'gdtoca', 'tcgdao', 'godatc', 'gocdat', 'gcdato', 'catogd', 'codatg', 'dacgto', 'aodctg', 'gadtco', 'togacd', 'dtaocg', 'dtcaog', 'dtogca', 'adctog', 'gadoct', 'agcodt', 'odacgt', 'adgtoc', 'odgact', 'gdoatc', 'gadtoc', 'gotdac', 'gaoctd', 'tgaocd', 'adgtco', 'docgta', 'dtaogc', 'actogd', 'catodg', 'gotacd', 'cdogta', 'dctgao', 'taocgd', 'toacdg', 'tadgoc', 'catdog', 'dcatgo', 'tgadoc', 'dgctoa', 'cogdta', 'gatdoc', 'oactgd', 'gactdo', 'octgad', 'gcdota', 'gaotcd', 'gdctao', 'tgoadc', 'oagtdc', 'ocdgta', 'gctdoa', 'aoctgd', 'agoctd', 'gdtaoc', 'dtgcoa', 'acgdot', 'cgadot', 'datgco', 'otadcg', 'adgoct', 'odagtc', 'coadtg', 'caodgt', 'cogdat', 'atcogd', 'cgdota', 'atgodc', 'aogtcd', 'adogct', 'togcda', 'gadcot', 'dgtoca', 'adtocg', 'tcodag', 'tcdgao', 'oacgdt', 'cagdto', 'cotagd', 'godact', 'tdaocg', 'oacgtd', 'cgtoda', 'doagtc', 'gaodtc', 'ogdcta', 'gdaotc', 'cgotad', 'dtocga', 'dtoacg', 'aodcgt', 'tgcoad', 'daotgc', 'cagtdo', 'aotdcg', 'tagodc', 'aocgdt', 'tcogad', 'cgaodt', 'ctaodg', 'aocdtg', 'gdctoa', 'ocatdg', 'aogtdc', 'dtacgo', 'ogdact', 'acgdto', 'gacdot', 'tdcoga', 'acdtgo', 'cgtoad', 'cdatgo', 'tgacdo', 'ocgatd', 'gtcado', 'agdotc', 'tgdcoa', 'cdtoga', 'adgcot', 'odcatg', 'gdcota', 'ocagdt', 'gocadt', 'odgcta', 'dcotag', 'ogtadc', 'ocgtda', 'oadctg', 'tgdoac', 'goactd', 'daoctg', 'cdaogt', 'adcgto', 'oacdgt', 'gtacod', 'gdatco', 'dotcga', 'tcgoad', 'acdogt', 'tgdaco', 'toacgd', 'oatcgd', 'adgcto', 'datgoc', 'catdgo', 'ogcdta', 'gtadoc', 'gtcaod', 'aogctd', 'dacogt', 'ogdtac', 'taogdc', 'ogtacd', 'odcgta', 'ogtdca', 'agdcot', 'agdtco', 'dtoagc', 'cdgoat', 'oadgtc', 'dcaogt', 'octdag', 'otgdca', 'cgaotd', 'aodgct', 'datcgo', 'tcagod', 'toadcg', 'adoctg', 'gatcdo', 'cdgtoa', 'tdagoc', 'oagdtc', 'gdaoct', 'gtdaoc', 'gtoadc', 'tacdog', 'acotdg', 'dcgota', 'dcaotg', 'gcodta', 'cdogat', 'tadgco', 'taogcd', 'dcgato', 'aogcdt', 'tcgaod', 'tcdgoa', 'otdgac', 'ctgoad', 'dagcto', 'dgacot', 'agocdt', 'ctgdao', 'odgtca', 'taodgc', 'gotcad', 'aodgtc', 'acogdt', 'ctogad', 'atdcgo', 'cgdtoa', 'cdgtao', 'cgdato', 'cgoadt', 'dgaoct', 'tcagdo', 'tdcgoa', 'dgtaoc', 'ocgtad', 'gtcoda', 'gtadco', 'tadcog', 'tgoacd', 'ogcdat', 'cadtog', 'ctadgo', 'acgodt', 'tcdago', 'cdatog', 'aotcdg', 'gtacdo', 'cgatdo', 'gotadc', 'tadcgo', 'adotcg', 'atogdc', 'dctaog', 'cgdaot', 'tcaodg', 'tocdga', 'tcoadg', 'docgat', 'ctoadg', 'tdogca', 'gcotad', 'tdgoac', 'tcodga', 'dcgtoa', 'tdagco', 'odatgc', 'goadtc', 'gdacto', 'otdcag', 'cgtdao', 'gocatd', 'gactod', 'adtgco', 'catgod', 'ctdgao', 'gcadto', 'acgtdo', 'octadg', 'tgdaoc', 'agtcdo', 'agtodc', 'cotdga', 'dgotca', 'oatdgc', 'gdotac', 'codgta', 'cagtod', 'octdga', 'dtgaco', 'tcgoda', 'cagdot', 'dogtac', 'cgatod', 'adtcog', 'daotcg', 'gaocdt', 'tcadgo', 'oatdcg', 'gaodct', 'gtcdoa', 'adotgc', 'agdtoc', 'datcog', 'coatgd', 'gtaocd', 'atcdgo', 'agtdoc', 'cgodta', 'tdocga', 'acdgto', 'taodcg', 'toagcd', 'ctdgoa', 'atodgc', 'actgod', 'dtocag', 'dgatoc', 'cdtoag', 'actgdo', 'agctdo', 'tgaodc', 'acodtg', 'odtagc', 'adogtc', 'dtgcao', 'caotgd', 'dgcota', 'aotgdc', 'gcdtao', 'cdgaot', 'odatcg', 'aogdtc', 'todacg', 'ogcadt', 'ocadtg', 'adtgoc', 'dogcat', 'gctado', 'tdcaog', 'gotcda', 'tagcod', 'acgtod', 'cogtda', 'tgdcao', 'adctgo', 'dcotga', 'tgadco', 'acodgt', 'tocgad', 'dactog', 'gtdcao', 'agotcd', 'atdocg', 'ogctda', 'goatcd', 'dcagot', 'gdcoat', 'aodtgc', 'cadgto', 'tocadg', 'godtca', 'gcatod', 'codtga', 'atocdg', 'ogdatc', 'tacdgo', 'ctaogd', 'gdcaot', 'acgotd', 'ctogda', 'gcdtoa', 'acogtd', 'dogact', 'adtcgo', 'adcgot', 'daogtc', 'ogatcd', 'ctgdoa', 'cogatd', 'tdcgao', 'ctodga', 'gtcoad', 'dtcoga', 'tdogac', 'dtcago', 'tcgado', 'otacdg', 'doacgt', 'cdotag', 'taocdg', 'gtodca', 'ogctad', 'tcaogd', 'cdagot', 'odtcga', 'gcadot', 'oadtgc', 'godcta', 'tadogc', 'adocgt', 'ocatgd', 'otdagc', 'gaotdc', 'atodcg', 'cogtad', 'todgac', 'odgtac', 'ogdtca', 'ocgadt', 'odgcat', 'tdacog', 'codtag', 'todgca', 'atgdoc', 'dctago', 'dcoagt', 'tagdoc', 'aocgtd', 'tocgda', 'tgcoda', 'gdocat', 'tacgdo', 'gacdto', 'dtgaoc', 'dgtcao', 'odcagt', 'cdagto', 'otcagd', 'otgcad', 'oadgct', 'togadc', 'oactdg', 'gcodat', 'dagcot', 'togdac', 'gctaod', 'gcaodt', 'ogatdc', 'doctag', 'tacodg', 'dgctao', 'tdocag', 'tdacgo', 'otdcga', 'otcdag', 'octgda', 'dotagc', 'otgcda', 'cgdoat', 'gotdca', 'godtac', 'tdgaco', 'gdtoac', 'dogtca', 'actodg', 'otagcd', 'tgcaod', 'ogtdac', 'todcag', 'ctoagd', 'ctgado', 'cgadto', 'dagtco', 'oagcdt', 'atogcd', 'tgacod', 'ocdtag', 'dacgot', 'odcgat', 'adtogc', 'togcad', 'dcogta', 'dgotac', 'otcgda', 'agcotd', 'gdatoc', 'otdacg', 'tgcdao', 'dotgca', 'cotgda', 'doatcg', 'otcdga', 'dotacg', 'dagoct', 'acdtog', 'cdtgao', 'cagodt', 'dotcag', 'tgdoca', 'gtdcoa', 'tgcdoa', 'tcgdoa', 'odagct', 'dctoga', 'agodct', 'coagtd', 'docagt', 'dcagto', 'dgtaco', 'doactg', 'ocdagt', 'tocagd', 'cgtado', 'aotgcd', 'ctdoga', 'datocg', 'cdgota', 'gtaodc', 'odtgca', 'agdoct', 'dcoatg', 'dgcaot', 'tcdoag', 'acdotg', 'ogcatd', 'gtocad', 'tadocg', 'dagotc', 'gdtaco', 'oacdtg', 'ctdoag', 'tcdoga', 'caodtg', 'gatodc', 'atdgoc', 'gatocd', 'otcadg', 'tgodac', 'ctadog', 'dtcgoa', 'otdgca', 'atgocd', 'ctgoda', 'gtdoca'}\n",
      "Total words: 720\n"
     ]
    }
   ],
   "source": [
    "def make_string(string_list):\n",
    "    \"\"\"It returns the string of data sequence passed in the function.\n",
    "    \n",
    "    string_list    Input list of the string eg. ['c', 'a', 't', 'd', 'o', 'g']\n",
    "    string         Output string after joining the list elements eg. catdog\n",
    "    \"\"\"\n",
    "    string = ''.join(string_list)\n",
    "    return string\n",
    "\n",
    "string_list = ['c', 'a', 't','d', 'o', 'g'] \n",
    "\"\"\" Input list of the string \"\"\"\n",
    "\n",
    "print(f\"Input list: {string_list}\")\n",
    "length_string = len(string_list)\n",
    "word = make_string(string_list) \n",
    "\"\"\" Converted input list into string ie. catdog \"\"\"\n",
    "\n",
    "word_set = set()\n",
    "\"\"\" Output set \"\"\"\n",
    "\n",
    "# get_all_possible_string(string_list, word_set)\n",
    "for i in range(length_string):\n",
    "    e = string_list.pop(i) \n",
    "#     \"\"\" Pops out the ith element from the input list.\"\"\"\n",
    "        \n",
    "    new_list = [] \n",
    "    \"\"\" Temporary list that holds the data before the date is sent to the output set.\"\"\"\n",
    "\n",
    "    if i == 0:\n",
    "        word_set.add(e) \n",
    "        \"\"\" Initially, is just add the element e into the output set.\"\"\"\n",
    "        \n",
    "    else:\n",
    "        for word in word_set:\n",
    "            word_list = list(word)\n",
    "            len_word_list = len(word_list)\n",
    "            new_word_list = []\n",
    "\n",
    "            for new_e  in word_list:\n",
    "                new_word_list.append(new_e)\n",
    "\n",
    "            for j in range( len_word_list + 1 ):\n",
    "                new_word_list.insert(j, e)\n",
    "                new_word = make_string(new_word_list)\n",
    "                new_list.append(new_word)\n",
    "                new_word_list.pop(j)\n",
    "\n",
    "        word_set.clear() \n",
    "        \"\"\" Clears the output set to update the output in the set.\"\"\"\n",
    "            \n",
    "        for new_word in new_list:\n",
    "            word_set.add(new_word)\n",
    "        \"\"\" Add the updated putput in the output set.\"\"\"\n",
    "            \n",
    "    string_list.insert(i, e)\n",
    "    \"\"\" Inserts the popped element into the input string to get the original.\"\"\"\n",
    "                \n",
    "print(f\"word_set: {word_set}\")\n",
    "\"\"\" Displays all the possible output strings. \"\"\"\n",
    "    \n",
    "count_word = len(word_set)\n",
    "\"\"\" To count all the displayed strings of the output set. \"\"\"\n",
    "    \n",
    "print(f\"Total words: {count_word}\")\n"
   ]
  },
  {
   "cell_type": "code",
   "execution_count": null,
   "metadata": {},
   "outputs": [],
   "source": []
  }
 ],
 "metadata": {
  "kernelspec": {
   "display_name": "Python 3",
   "language": "python",
   "name": "python3"
  },
  "language_info": {
   "codemirror_mode": {
    "name": "ipython",
    "version": 3
   },
   "file_extension": ".py",
   "mimetype": "text/x-python",
   "name": "python",
   "nbconvert_exporter": "python",
   "pygments_lexer": "ipython3",
   "version": "3.7.3"
  }
 },
 "nbformat": 4,
 "nbformat_minor": 2
}
