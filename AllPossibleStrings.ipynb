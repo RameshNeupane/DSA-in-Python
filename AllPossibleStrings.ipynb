{
 "cells": [
  {
   "cell_type": "markdown",
   "metadata": {},
   "source": [
    "#### Python program that outputs all possible strings formed by using 'c' , 'a', 't', 'd', 'o', 'g'  exactly once in the string."
   ]
  },
  {
   "cell_type": "code",
   "execution_count": 2,
   "metadata": {},
   "outputs": [
    {
     "name": "stdout",
     "output_type": "stream",
     "text": [
      "Input list: ['c', 'a', 't', 'd', 'o', 'g']\n",
      "word_set: {'tocdga', 'tcagdo', 'tdocga', 'aotcdg', 'ctogda', 'agdotc', 'dgcoat', 'ctgdoa', 'otcgad', 'tocgad', 'dgoact', 'acotgd', 'gdaoct', 'odgcat', 'tgcdoa', 'tcdoag', 'acdgot', 'oagctd', 'dtagoc', 'adogct', 'ocgadt', 'ogadtc', 'agcdot', 'atgocd', 'ogdatc', 'actdgo', 'gotacd', 'dgtoca', 'atdcog', 'gctdao', 'dcaogt', 'tocdag', 'gtdaoc', 'actgdo', 'ocgtda', 'dogact', 'gdoatc', 'gctdoa', 'tacdog', 'gcdtoa', 'tagdoc', 'atcodg', 'odctag', 'oacgdt', 'dtogca', 'godcta', 'tdaogc', 'tdcoag', 'otagcd', 'cagtod', 'gotdac', 'ocadgt', 'caogdt', 'otcdag', 'adocgt', 'toadcg', 'aogdct', 'tgdcao', 'gatdoc', 'atdogc', 'gcotad', 'ogatcd', 'cgotda', 'cgotad', 'dcgtoa', 'tdgoca', 'cogtda', 'gdtoca', 'tdoacg', 'tacogd', 'acgodt', 'oadgtc', 'adtgoc', 'cagtdo', 'caotgd', 'codtag', 'cdoatg', 'tcgoda', 'ctagdo', 'dogatc', 'cagdto', 'adgcto', 'agtdoc', 'gdocat', 'tdaocg', 'gdtaoc', 'tagcod', 'tagocd', 'gotcad', 'ctdgoa', 'gdtcao', 'gadcto', 'ogctad', 'oadgct', 'odtacg', 'dtgoca', 'aocgtd', 'gdotac', 'odtcag', 'ctaogd', 'gdacot', 'otcagd', 'agtdco', 'atdgco', 'gctoad', 'tcgado', 'tadogc', 'dtocag', 'dcgtao', 'gcatdo', 'octdag', 'gdoact', 'aotcgd', 'dctgao', 'adotgc', 'catgod', 'oatgcd', 'cdoagt', 'dgoatc', 'cdatgo', 'agdcto', 'ogtcda', 'dogcat', 'ogdact', 'doctag', 'odcgta', 'oactgd', 'oatdgc', 'dgatoc', 'acdogt', 'cdogta', 'tdcgao', 'tocadg', 'aoctdg', 'dgtoac', 'gadcot', 'datgoc', 'ocdgta', 'gtcaod', 'tdocag', 'cdtoag', 'cagodt', 'tdagoc', 'dtgoac', 'tdgcao', 'adtgco', 'ctdgao', 'dtagco', 'taocgd', 'oacdgt', 'cotagd', 'togacd', 'dcotga', 'dcoagt', 'adtcgo', 'tcaogd', 'doagct', 'octgad', 'atgodc', 'gcdota', 'ctgoda', 'ocadtg', 'cdagot', 'actogd', 'tcdoga', 'gaodtc', 'gactdo', 'odgcta', 'dgcato', 'tdogac', 'dgatco', 'gcaotd', 'tadcgo', 'dtgaco', 'gocadt', 'atcdgo', 'cgoadt', 'tgcoda', 'cdtaog', 'todcag', 'tcogda', 'gcaodt', 'acdtgo', 'otacgd', 'agotcd', 'cgatod', 'cagotd', 'odacgt', 'dtcoag', 'gadotc', 'cgtdao', 'coagdt', 'tdagco', 'dtacgo', 'gtcado', 'ocdtga', 'tcogad', 'ocgatd', 'gdocta', 'caotdg', 'cgtado', 'tacgod', 'gotcda', 'doacgt', 'agcodt', 'gacodt', 'odcagt', 'oatgdc', 'odagtc', 'atgcod', 'agcotd', 'taodcg', 'aodgct', 'atdgoc', 'ctgoad', 'cdgato', 'adtogc', 'oatcdg', 'odactg', 'gtoacd', 'ogcatd', 'tadocg', 'dcgota', 'gcdoat', 'ocgdta', 'tgacdo', 'tgoadc', 'cgaodt', 'atcogd', 'agdtco', 'gdctao', 'dagtco', 'todgac', 'tcdgoa', 'gdaotc', 'aotgcd', 'codgat', 'ogdtac', 'goadct', 'cadtgo', 'agdtoc', 'dtcoga', 'gocatd', 'gaodct', 'agtcod', 'goacdt', 'tacodg', 'aodctg', 'dcogat', 'dtaogc', 'otdgac', 'ogadct', 'odtgac', 'taogdc', 'oadcgt', 'goatdc', 'cdotag', 'adgtoc', 'doatcg', 'ctodag', 'tgcaod', 'atdcgo', 'cadgot', 'goctad', 'odgatc', 'goactd', 'gtdcoa', 'codatg', 'godatc', 'docatg', 'ogactd', 'gdatoc', 'tdacog', 'gatcdo', 'doactg', 'codtga', 'todcga', 'aotgdc', 'tcadgo', 'gadtco', 'gcoadt', 'gctoda', 'gtdcao', 'tgacod', 'goatcd', 'tdoagc', 'tacgdo', 'gatcod', 'adctgo', 'dgtcoa', 'adotcg', 'cgdtoa', 'tcdago', 'aogtdc', 'odtgca', 'cadogt', 'tgdoca', 'daoctg', 'otdcga', 'cgdaot', 'gcotda', 'tocagd', 'atgdoc', 'cdaogt', 'aodtgc', 'otadgc', 'dgcota', 'oatcgd', 'dgacto', 'toacdg', 'taogcd', 'ocatgd', 'tgdaco', 'tgaocd', 'datogc', 'tgocda', 'tgdcoa', 'tdcoga', 'gaotcd', 'tdgoac', 'gcoatd', 'ocagtd', 'dotgca', 'gctaod', 'dctaog', 'actgod', 'ocdgat', 'coagtd', 'cgtoda', 'adcgto', 'gtcoad', 'tgocad', 'dogtac', 'dctoag', 'acgtdo', 'ctagod', 'agctdo', 'odgtac', 'oadctg', 'dcgoat', 'cogdat', 'agtodc', 'aogctd', 'gdotca', 'dgocta', 'godtac', 'octagd', 'dotcag', 'ocgtad', 'dtgcao', 'dgtcao', 'aodtcg', 'oagdct', 'dtaocg', 'ocdatg', 'tdcgoa', 'doagtc', 'dotagc', 'octdga', 'cdgtoa', 'cdatog', 'cgaotd', 'actodg', 'acdgto', 'ogtcad', 'dtgcoa', 'codagt', 'tcadog', 'ocdagt', 'catdog', 'gadoct', 'acotdg', 'aoctgd', 'agdoct', 'gcatod', 'dctoga', 'dcatog', 'cdtago', 'otgdca', 'cdagto', 'agodtc', 'togdca', 'odtagc', 'aodcgt', 'gctado', 'gaoctd', 'ogacdt', 'gatdco', 'gtacod', 'adoctg', 'otacdg', 'dagcot', 'togcad', 'daocgt', 'ogdtca', 'daotcg', 'dgotac', 'todagc', 'goadtc', 'goctda', 'dtoagc', 'dgtaco', 'cgatdo', 'gatodc', 'gtcdao', 'dcaotg', 'dgocat', 'dtacog', 'agdcot', 'gtodac', 'otgadc', 'dctago', 'tacdgo', 'gacdto', 'acogdt', 'ogatdc', 'adgoct', 'datcgo', 'ctgaod', 'gadtoc', 'agctod', 'gaocdt', 'gcdtao', 'cgtoad', 'dtcaog', 'oacdtg', 'dotgac', 'gacotd', 'gtocda', 'otdgca', 'gtocad', 'gdcota', 'tadgoc', 'adogtc', 'tcgdao', 'cgadot', 'dtcago', 'cdtgoa', 'tdcago', 'tocgda', 'gocdta', 'cotadg', 'coadgt', 'dcogta', 'dtcgoa', 'ctoagd', 'otcgda', 'ogtacd', 'godact', 'odgact', 'otgcda', 'dacgto', 'gdcato', 'gcodta', 'tagodc', 'tgdaoc', 'acdtog', 'agtocd', 'gtadco', 'cadotg', 'godtca', 'ctadog', 'dagtoc', 'tcoadg', 'codgta', 'ogcadt', 'cotgda', 'agotdc', 'docagt', 'gtdaco', 'atogcd', 'tgcoad', 'adcotg', 'gcodat', 'coatgd', 'oactdg', 'dgotca', 'taodgc', 'oadtcg', 'ogtadc', 'gotadc', 'ogtdac', 'otdagc', 'ocagdt', 'toagcd', 'tcodag', 'daotgc', 'gdtaco', 'odctga', 'tagdco', 'cagdot', 'cadgto', 'adctog', 'dgacot', 'dacgot', 'tgadoc', 'cdgoat', 'ocatdg', 'doctga', 'odcgat', 'acgdot', 'dcagto', 'dotacg', 'gotdca', 'daogtc', 'aogtcd', 'gcadot', 'tcgaod', 'odatcg', 'tgodca', 'dacotg', 'adgcot', 'catodg', 'gdcoat', 'cgdtao', 'atogdc', 'coadtg', 'catdgo', 'ctdaog', 'dacogt', 'agodct', 'cgodat', 'dcotag', 'otadcg', 'dgcaot', 'tgoacd', 'atdocg', 'tgaodc', 'acodtg', 'acgtod', 'tgcdao', 'gtaodc', 'gtadoc', 'otagdc', 'odcatg', 'gactod', 'todacg', 'dogcta', 'ctadgo', 'cdtgao', 'atodcg', 'tadcog', 'cgdoat', 'tcdaog', 'gdacto', 'ogcdta', 'otgcad', 'coatdg', 'otdcag', 'docgta', 'ctogad', 'dgaotc', 'dtgaoc', 'gtodca', 'dcgato', 'agtcdo', 'ctgdao', 'adgotc', 'adtcog', 'tcdgao', 'odtcga', 'aocdgt', 'dtcgao', 'acgotd', 'togdac', 'otcdga', 'acodgt', 'aocdtg', 'dtocga', 'togcda', 'gdtoac', 'cgtdoa', 'tgdoac', 'gtcdoa', 'cdogat', 'oagtdc', 'ogcdat', 'ctodga', 'cdtoga', 'cotdag', 'gtacdo', 'ocdtag', 'tdacgo', 'godcat', 'dagoct', 'togadc', 'octadg', 'oadtgc', 'tdgaoc', 'toacgd', 'dcagot', 'tcgoad', 'dogtca', 'taocdg', 'oagcdt', 'octgda', 'gtoadc', 'caogtd', 'cdotga', 'aodgtc', 'gaotdc', 'gcadto', 'actdog', 'cdgaot', 'gdtcoa', 'tcaodg', 'dgctao', 'ogdcta', 'cotgad', 'dagcto', 'adcogt', 'todgca', 'atcgod', 'cdgtao', 'tcagod', 'cgtaod', 'atodgc', 'gtcoda', 'cogatd', 'tdgcoa', 'ctdoag', 'datocg', 'agocdt', 'ogctda', 'ctgado', 'dactgo', 'dcoatg', 'doatgc', 'ogdcat', 'adtocg', 'dgtaoc', 'cgodta', 'oacgtd', 'odatgc', 'gcdato', 'dotcga', 'agcdto', 'oagdtc', 'daogct', 'gacdot', 'aogdtc', 'gocdat', 'atgdco', 'otcadg', 'cgadto', 'datcog', 'caodtg', 'odagct', 'toadgc', 'dactog', 'gtaocd', 'otgdac', 'ogtdca', 'odgtca', 'tagcdo', 'aocgdt', 'tcoagd', 'toagdc', 'otdacg', 'tdogca', 'aotdcg', 'tdcaog', 'oagtcd', 'adgtco', 'atcdog', 'gdcaot', 'ocgdat', 'tdgaco', 'cgdato', 'atocgd', 'atocdg', 'catogd', 'ctaodg', 'aogcdt', 'atgcdo', 'cogdta', 'ctdago', 'gdatco', 'cgdota', 'datgco', 'docgat', 'gdctoa', 'oatdcg', 'otgacd', 'acdotg', 'dctgoa', 'tgcado', 'agoctd', 'cgoatd', 'tcodga', 'acgdto', 'gatocd', 'gcdaot', 'tcgdoa', 'aotdgc', 'cdgota', 'cogadt', 'acogtd', 'dgaoct', 'gtdoca', 'dagotc', 'cadtog', 'dgctoa', 'ctoadg', 'dcgaot', 'dcatgo', 'caodgt', 'tadgco', 'atcgdo', 'cdaotg', 'adcgot', 'gtdoac', 'cotdga', 'dtogac', 'catgdo', 'cogtad', 'tgodac', 'dtoacg', 'ctdoga', 'tgadco'}\n",
      "Total words: 720\n"
     ]
    }
   ],
   "source": [
    "def make_string(string_list):\n",
    "    \"\"\" It returns the string of data sequence passed in the function.\n",
    "    \n",
    "    string_list    Input list of the string eg. ['c', 'a', 't', 'd', 'o', 'g']\n",
    "    string         Output string after joining the list elements eg. catdog\n",
    "    \"\"\"\n",
    "    string = ''.join(string_list)\n",
    "    return string\n",
    "\n",
    "string_list = ['c', 'a', 't','d', 'o', 'g'] \n",
    "\"\"\" Input list of the string \"\"\"\n",
    "\n",
    "print(f\"Input list: {string_list}\")\n",
    "length_string = len(string_list)\n",
    "word = make_string(string_list) \n",
    "\"\"\" Converted input list into string ie. catdog \"\"\"\n",
    "\n",
    "word_set = set()\n",
    "\"\"\" Output set \"\"\"\n",
    "\n",
    "# get_all_possible_string(string_list, word_set)\n",
    "for i in range(length_string):\n",
    "    e = string_list.pop(i) \n",
    "#     \"\"\" Pops out the ith element from the input list.\"\"\"\n",
    "        \n",
    "    new_list = [] \n",
    "    \"\"\" Temporary list that holds the data before the date is sent to the output set.\"\"\"\n",
    "\n",
    "    if i == 0:\n",
    "        word_set.add(e) \n",
    "        \"\"\" Initially, is just add the element e into the output set.\"\"\"\n",
    "        \n",
    "    else:\n",
    "        for word in word_set:\n",
    "            word_list = list(word)\n",
    "            len_word_list = len(word_list)\n",
    "            new_word_list = []\n",
    "\n",
    "            for new_e  in word_list:\n",
    "                new_word_list.append(new_e)\n",
    "\n",
    "            for j in range( len_word_list + 1 ):\n",
    "                new_word_list.insert(j, e)\n",
    "                new_word = make_string(new_word_list)\n",
    "                new_list.append(new_word)\n",
    "                new_word_list.pop(j)\n",
    "\n",
    "        word_set.clear() \n",
    "        \"\"\" Clears the output set to update the output in the set.\"\"\"\n",
    "            \n",
    "        for new_word in new_list:\n",
    "            word_set.add(new_word)\n",
    "        \"\"\" Add the updated putput in the output set.\"\"\"\n",
    "            \n",
    "    string_list.insert(i, e)\n",
    "    \"\"\" Inserts the popped element into the input string to get the original.\"\"\"\n",
    "                \n",
    "print(f\"word_set: {word_set}\")\n",
    "\"\"\" Displays all the possible output strings. \"\"\"\n",
    "    \n",
    "count_word = len(word_set)\n",
    "\"\"\" To count all the displayed strings of the output set. \"\"\"\n",
    "    \n",
    "print(f\"Total words: {count_word}\")\n"
   ]
  },
  {
   "cell_type": "code",
   "execution_count": null,
   "metadata": {},
   "outputs": [],
   "source": []
  }
 ],
 "metadata": {
  "kernelspec": {
   "display_name": "Python 3",
   "language": "python",
   "name": "python3"
  },
  "language_info": {
   "codemirror_mode": {
    "name": "ipython",
    "version": 3
   },
   "file_extension": ".py",
   "mimetype": "text/x-python",
   "name": "python",
   "nbconvert_exporter": "python",
   "pygments_lexer": "ipython3",
   "version": "3.7.3"
  }
 },
 "nbformat": 4,
 "nbformat_minor": 2
}
