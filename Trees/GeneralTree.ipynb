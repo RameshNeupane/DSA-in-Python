{
 "cells": [
  {
   "cell_type": "markdown",
   "metadata": {},
   "source": [
    "# Tree: An Abstract Base Class in Python"
   ]
  },
  {
   "cell_type": "code",
   "execution_count": 1,
   "metadata": {},
   "outputs": [],
   "source": [
    "class Tree:\n",
    "    class Position:\n",
    "        def element(self):\n",
    "            raise NotImplementedError('must be implemented by subclass.')\n",
    "            \n",
    "        def __eq__(self, other):\n",
    "            raise NotImplementedError('must be implemented by subclass.')\n",
    "            \n",
    "        def __ne__(self, other):\n",
    "            return not(self == other)\n",
    "        \n",
    "    \n",
    "    def root(self):\n",
    "        raise NotImplementedError('must be implemented by subclass.')\n",
    "    \n",
    "    def parent(self, p):\n",
    "        raise NotImplementedError('must be implemented by subclass.')\n",
    "    \n",
    "    def num_children(self, p):\n",
    "        raise NotImplementedError('must be implemented by subclass.')\n",
    "        \n",
    "    def children(self, p):\n",
    "        raise NotImplementedError('must be implemented by subclass.')\n",
    "        \n",
    "    def __len__(self):\n",
    "        raise NotImplementedError('must be implemented by subclass.')\n",
    "        \n",
    "    def is_root(self, p):\n",
    "        return self.root() == p\n",
    "    \n",
    "    def is_leaf(self, p):\n",
    "        return self.num_children(p) == 0\n",
    "    \n",
    "    def is_empty(self):\n",
    "        return len(self) == 0\n",
    "            \n",
    "    def depth(self, p):\n",
    "        if self.is_root(p):\n",
    "            return 0\n",
    "        else:\n",
    "            return 1 + self.depth(self.parent(p))\n",
    "    \n",
    "    def _height1(self):\n",
    "        return max(self.depth(p) for p in self.positions() if self.is_leaf(p))\n",
    "    \n",
    "    def _height2(self, p):\n",
    "        if self.is_leaf(p):\n",
    "            return 0\n",
    "        else:\n",
    "            return 1 + max(self._height2(c) for c in self.children(p))\n",
    "    def height(self, p = None):\n",
    "        if p is None:\n",
    "            p = self.root()\n",
    "        return self._height2(p)  \n",
    "    "
   ]
  },
  {
   "cell_type": "code",
   "execution_count": null,
   "metadata": {},
   "outputs": [],
   "source": []
  }
 ],
 "metadata": {
  "kernelspec": {
   "display_name": "Python 3",
   "language": "python",
   "name": "python3"
  },
  "language_info": {
   "codemirror_mode": {
    "name": "ipython",
    "version": 3
   },
   "file_extension": ".py",
   "mimetype": "text/x-python",
   "name": "python",
   "nbconvert_exporter": "python",
   "pygments_lexer": "ipython3",
   "version": "3.7.3"
  }
 },
 "nbformat": 4,
 "nbformat_minor": 2
}
