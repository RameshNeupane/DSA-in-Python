{
 "cells": [
  {
   "cell_type": "markdown",
   "metadata": {},
   "source": [
    "## Double-Ended-Queue: deque(pronounce 'deck')"
   ]
  },
  {
   "cell_type": "code",
   "execution_count": 68,
   "metadata": {},
   "outputs": [],
   "source": [
    "class Deque:\n",
    "    def __init__(self, dq_size = 10):\n",
    "        self._data = [None] * dq_size\n",
    "        self._size = 0\n",
    "    \n",
    "    def display_deque(self):\n",
    "        print(f\"Current queue: {self._data}\")\n",
    "    \n",
    "    def is_empty(self):\n",
    "        '''returns True if deque contains no element.'''\n",
    "        return self._size == 0\n",
    "            \n",
    "    def add_first(self, e):\n",
    "        '''adds element e at the front of the deque.'''\n",
    "        if self.is_empty():\n",
    "            self._data[0] = e\n",
    "            self._size += 1\n",
    "        elif self._size == len(self._data):\n",
    "            print('Deque is full.')\n",
    "        else:\n",
    "            count = 0\n",
    "            for i in range(len(self._data)):\n",
    "                if self._data[i] is not None:\n",
    "                    count += 1\n",
    "                else:\n",
    "                    break\n",
    "            for i in range(count, 0, -1):\n",
    "                self._data[i] = self._data[i - 1]\n",
    "            self._data[0] = e\n",
    "            self._size += 1\n",
    "        \n",
    "    def add_last(self, e):\n",
    "        '''adds element e at the back of the deque.'''\n",
    "        if self.is_empty():\n",
    "            self._data[-1] = e\n",
    "            self._size += 1\n",
    "        elif self._size == len(self._data):\n",
    "            print('Deque is full.')\n",
    "        else:\n",
    "            count = 0\n",
    "            for i in range(len(self._data) - 1, -1, -1):\n",
    "                if self._data[i] is not None:\n",
    "                    count += 1\n",
    "                else:\n",
    "                    break\n",
    "            for i in range(len(self._data) - count, len(self._data)):\n",
    "                self._data[i - 1] = self._data[i]\n",
    "            self._data[-1] = e\n",
    "            self._size += 1\n",
    "            \n",
    "    def remove_first(self):\n",
    "        '''removes and return the first element of the deque.'''\n",
    "        if self.is_empty():\n",
    "            print('Deque is empty.')\n",
    "            return\n",
    "        elif self._data[0] is None:\n",
    "            print('You can not remove from front of deque.')\n",
    "            return\n",
    "        else:\n",
    "            f_popped  = self._data[0]\n",
    "            if self._size == 1:\n",
    "                self._data[0] = None\n",
    "            else:\n",
    "                for i in range(len(self._data) // 2):\n",
    "                    if i == (len(self._data) // 2) - 1:\n",
    "                        self._data[i] = None\n",
    "                    else:\n",
    "                        self._data[i] = self._data[i + 1]\n",
    "            self._size -= 1\n",
    "            return f_popped\n",
    "    \n",
    "    def remove_last(self):\n",
    "        '''removes and return the last element of the deque.'''\n",
    "        if self.is_empty():\n",
    "            print('Deque is empty.')\n",
    "            return \n",
    "        elif self._data[-1] is None:\n",
    "            print('You can not remove from back of deque.')\n",
    "            return\n",
    "        else:\n",
    "            l_popped  = self._data[-1]\n",
    "            if self._size == 1:\n",
    "                self._data[-1] = None\n",
    "            else:\n",
    "                for i in range(len(self._data) - 1, len(self._data) // 2 - 1, -1):\n",
    "                    if i == (len(self._data) // 2):\n",
    "                        self._data[i] = None\n",
    "                    else:\n",
    "                        self._data[i] = self._data[i - 1]\n",
    "            self._size -= 1\n",
    "            return l_popped\n",
    "    def first(self):\n",
    "        '''returns first element of the deque.'''\n",
    "        return self._data[0]\n",
    "    \n",
    "    def last(self):\n",
    "        '''returns last element of the deque.'''\n",
    "        return self._data[-1]\n",
    "    "
   ]
  },
  {
   "cell_type": "code",
   "execution_count": 69,
   "metadata": {},
   "outputs": [],
   "source": [
    "D = Deque()"
   ]
  },
  {
   "cell_type": "code",
   "execution_count": 70,
   "metadata": {},
   "outputs": [
    {
     "name": "stdout",
     "output_type": "stream",
     "text": [
      "Current queue: [None, None, None, None, None, None, None, None, None, None]\n"
     ]
    }
   ],
   "source": [
    "D.display_deque()"
   ]
  },
  {
   "cell_type": "code",
   "execution_count": 71,
   "metadata": {},
   "outputs": [],
   "source": [
    "D.add_first(10)"
   ]
  },
  {
   "cell_type": "code",
   "execution_count": 72,
   "metadata": {},
   "outputs": [
    {
     "name": "stdout",
     "output_type": "stream",
     "text": [
      "Current queue: [10, None, None, None, None, None, None, None, None, None]\n"
     ]
    }
   ],
   "source": [
    "D.display_deque()"
   ]
  },
  {
   "cell_type": "code",
   "execution_count": 73,
   "metadata": {},
   "outputs": [],
   "source": [
    "D.add_last(20)"
   ]
  },
  {
   "cell_type": "code",
   "execution_count": 74,
   "metadata": {},
   "outputs": [
    {
     "name": "stdout",
     "output_type": "stream",
     "text": [
      "Current queue: [10, None, None, None, None, None, None, None, None, 20]\n"
     ]
    }
   ],
   "source": [
    "D.display_deque()"
   ]
  },
  {
   "cell_type": "code",
   "execution_count": 75,
   "metadata": {},
   "outputs": [],
   "source": [
    "D.add_first(2)\n",
    "D.add_first(20)\n",
    "D.add_first(200)\n",
    "D.add_first(2000)"
   ]
  },
  {
   "cell_type": "code",
   "execution_count": 76,
   "metadata": {},
   "outputs": [
    {
     "name": "stdout",
     "output_type": "stream",
     "text": [
      "Current queue: [2000, 200, 20, 2, 10, None, None, None, None, 20]\n"
     ]
    }
   ],
   "source": [
    "D.display_deque()"
   ]
  },
  {
   "cell_type": "code",
   "execution_count": 77,
   "metadata": {},
   "outputs": [],
   "source": [
    "D.add_last(1)\n",
    "D.add_last(10)\n",
    "D.add_last(100)\n",
    "D.add_last(1000)"
   ]
  },
  {
   "cell_type": "code",
   "execution_count": 78,
   "metadata": {},
   "outputs": [
    {
     "name": "stdout",
     "output_type": "stream",
     "text": [
      "Current queue: [2000, 200, 20, 2, 10, 20, 1, 10, 100, 1000]\n"
     ]
    }
   ],
   "source": [
    "D.display_deque()"
   ]
  },
  {
   "cell_type": "code",
   "execution_count": 79,
   "metadata": {},
   "outputs": [
    {
     "data": {
      "text/plain": [
       "2000"
      ]
     },
     "execution_count": 79,
     "metadata": {},
     "output_type": "execute_result"
    }
   ],
   "source": [
    "D.first()"
   ]
  },
  {
   "cell_type": "code",
   "execution_count": 80,
   "metadata": {},
   "outputs": [
    {
     "data": {
      "text/plain": [
       "1000"
      ]
     },
     "execution_count": 80,
     "metadata": {},
     "output_type": "execute_result"
    }
   ],
   "source": [
    "D.last()"
   ]
  },
  {
   "cell_type": "code",
   "execution_count": 81,
   "metadata": {},
   "outputs": [
    {
     "data": {
      "text/plain": [
       "2000"
      ]
     },
     "execution_count": 81,
     "metadata": {},
     "output_type": "execute_result"
    }
   ],
   "source": [
    "D.remove_first()"
   ]
  },
  {
   "cell_type": "code",
   "execution_count": 82,
   "metadata": {},
   "outputs": [
    {
     "name": "stdout",
     "output_type": "stream",
     "text": [
      "Current queue: [200, 20, 2, 10, None, 20, 1, 10, 100, 1000]\n"
     ]
    }
   ],
   "source": [
    "D.display_deque()"
   ]
  },
  {
   "cell_type": "code",
   "execution_count": 83,
   "metadata": {},
   "outputs": [
    {
     "data": {
      "text/plain": [
       "1000"
      ]
     },
     "execution_count": 83,
     "metadata": {},
     "output_type": "execute_result"
    }
   ],
   "source": [
    "D.remove_last()"
   ]
  },
  {
   "cell_type": "code",
   "execution_count": 84,
   "metadata": {},
   "outputs": [
    {
     "name": "stdout",
     "output_type": "stream",
     "text": [
      "Current queue: [200, 20, 2, 10, None, None, 20, 1, 10, 100]\n"
     ]
    }
   ],
   "source": [
    "D.display_deque()"
   ]
  },
  {
   "cell_type": "code",
   "execution_count": 85,
   "metadata": {},
   "outputs": [
    {
     "data": {
      "text/plain": [
       "2"
      ]
     },
     "execution_count": 85,
     "metadata": {},
     "output_type": "execute_result"
    }
   ],
   "source": [
    "D.remove_first()\n",
    "D.remove_first()\n",
    "D.remove_first()"
   ]
  },
  {
   "cell_type": "code",
   "execution_count": 86,
   "metadata": {},
   "outputs": [
    {
     "name": "stdout",
     "output_type": "stream",
     "text": [
      "Current queue: [10, None, None, None, None, None, 20, 1, 10, 100]\n"
     ]
    }
   ],
   "source": [
    "D.display_deque()"
   ]
  },
  {
   "cell_type": "code",
   "execution_count": 87,
   "metadata": {},
   "outputs": [
    {
     "data": {
      "text/plain": [
       "1"
      ]
     },
     "execution_count": 87,
     "metadata": {},
     "output_type": "execute_result"
    }
   ],
   "source": [
    "D.remove_last()\n",
    "D.remove_last()\n",
    "D.remove_last()"
   ]
  },
  {
   "cell_type": "code",
   "execution_count": 88,
   "metadata": {},
   "outputs": [
    {
     "name": "stdout",
     "output_type": "stream",
     "text": [
      "Current queue: [10, None, None, None, None, None, None, None, None, 20]\n"
     ]
    }
   ],
   "source": [
    "D.display_deque()"
   ]
  },
  {
   "cell_type": "code",
   "execution_count": 89,
   "metadata": {},
   "outputs": [
    {
     "data": {
      "text/plain": [
       "10"
      ]
     },
     "execution_count": 89,
     "metadata": {},
     "output_type": "execute_result"
    }
   ],
   "source": [
    "D.remove_first()"
   ]
  },
  {
   "cell_type": "code",
   "execution_count": 90,
   "metadata": {},
   "outputs": [
    {
     "name": "stdout",
     "output_type": "stream",
     "text": [
      "You can not remove from front of deque.\n"
     ]
    }
   ],
   "source": [
    "D.remove_first()"
   ]
  },
  {
   "cell_type": "code",
   "execution_count": 91,
   "metadata": {},
   "outputs": [
    {
     "data": {
      "text/plain": [
       "20"
      ]
     },
     "execution_count": 91,
     "metadata": {},
     "output_type": "execute_result"
    }
   ],
   "source": [
    "D.remove_last()"
   ]
  },
  {
   "cell_type": "code",
   "execution_count": 92,
   "metadata": {},
   "outputs": [
    {
     "name": "stdout",
     "output_type": "stream",
     "text": [
      "Deque is empty.\n"
     ]
    }
   ],
   "source": [
    "D.remove_last()"
   ]
  },
  {
   "cell_type": "code",
   "execution_count": 93,
   "metadata": {},
   "outputs": [],
   "source": [
    "D.add_first(10)"
   ]
  },
  {
   "cell_type": "code",
   "execution_count": 94,
   "metadata": {},
   "outputs": [
    {
     "name": "stdout",
     "output_type": "stream",
     "text": [
      "You can not remove from back of deque.\n"
     ]
    }
   ],
   "source": [
    "D.remove_last()"
   ]
  },
  {
   "cell_type": "code",
   "execution_count": 95,
   "metadata": {},
   "outputs": [
    {
     "data": {
      "text/plain": [
       "False"
      ]
     },
     "execution_count": 95,
     "metadata": {},
     "output_type": "execute_result"
    }
   ],
   "source": [
    "D.is_empty()"
   ]
  },
  {
   "cell_type": "code",
   "execution_count": 96,
   "metadata": {},
   "outputs": [
    {
     "data": {
      "text/plain": [
       "10"
      ]
     },
     "execution_count": 96,
     "metadata": {},
     "output_type": "execute_result"
    }
   ],
   "source": [
    "D.remove_first()"
   ]
  },
  {
   "cell_type": "code",
   "execution_count": 97,
   "metadata": {},
   "outputs": [
    {
     "name": "stdout",
     "output_type": "stream",
     "text": [
      "Current queue: [None, None, None, None, None, None, None, None, None, None]\n"
     ]
    }
   ],
   "source": [
    "D.display_deque()"
   ]
  },
  {
   "cell_type": "code",
   "execution_count": 98,
   "metadata": {},
   "outputs": [
    {
     "data": {
      "text/plain": [
       "True"
      ]
     },
     "execution_count": 98,
     "metadata": {},
     "output_type": "execute_result"
    }
   ],
   "source": [
    "D.is_empty()"
   ]
  },
  {
   "cell_type": "code",
   "execution_count": null,
   "metadata": {},
   "outputs": [],
   "source": []
  }
 ],
 "metadata": {
  "kernelspec": {
   "display_name": "Python 3",
   "language": "python",
   "name": "python3"
  },
  "language_info": {
   "codemirror_mode": {
    "name": "ipython",
    "version": 3
   },
   "file_extension": ".py",
   "mimetype": "text/x-python",
   "name": "python",
   "nbconvert_exporter": "python",
   "pygments_lexer": "ipython3",
   "version": "3.7.3"
  }
 },
 "nbformat": 4,
 "nbformat_minor": 2
}
