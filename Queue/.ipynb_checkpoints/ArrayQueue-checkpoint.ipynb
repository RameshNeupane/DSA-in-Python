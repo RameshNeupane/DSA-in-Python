{
 "cells": [
  {
   "cell_type": "markdown",
   "metadata": {},
   "source": [
    "## Queue Using Python List"
   ]
  },
  {
   "cell_type": "code",
   "execution_count": 2,
   "metadata": {},
   "outputs": [],
   "source": [
    "class ArrayQueue:\n",
    "    DEF_SIZE = 3\n",
    "    def __init__(self):\n",
    "        self._data = [None] * DEF_SIZE\n",
    "        self._size = 0\n",
    "        \n",
    "    \n",
    "    def display_queue(self):\n",
    "        print(f\"Current queue: {self._data}\")\n",
    "        \n",
    "    def is_empty(self):\n",
    "        return self._size == 0\n",
    "    \n",
    "    def enqueue(self, e):\n",
    "        if self.is_empty():\n",
    "            self._data[0] = e\n",
    "            \n",
    "        elif self._size == 3:\n",
    "            print(\"Queue is full.\")\n",
    "        else: \n",
    "            new = self._data.copy()\n",
    "            for i in range(1, self._size + 1):\n",
    "                self._data[i] = new[i - 1]\n",
    "            self._data[0] = e\n",
    "        self._size += 1  \n",
    "        \n",
    "    def dequeue(self):\n",
    "        if is_empty():\n",
    "            print(\"Queue is empty.\")\n",
    "        "
   ]
  },
  {
   "cell_type": "code",
   "execution_count": null,
   "metadata": {},
   "outputs": [],
   "source": []
  }
 ],
 "metadata": {
  "kernelspec": {
   "display_name": "Python 3",
   "language": "python",
   "name": "python3"
  },
  "language_info": {
   "codemirror_mode": {
    "name": "ipython",
    "version": 3
   },
   "file_extension": ".py",
   "mimetype": "text/x-python",
   "name": "python",
   "nbconvert_exporter": "python",
   "pygments_lexer": "ipython3",
   "version": "3.7.3"
  }
 },
 "nbformat": 4,
 "nbformat_minor": 2
}
