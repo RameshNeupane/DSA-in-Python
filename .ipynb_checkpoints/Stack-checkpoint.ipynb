{
 "cells": [
  {
   "cell_type": "markdown",
   "metadata": {},
   "source": [
    "## Stack Using Python List"
   ]
  },
  {
   "cell_type": "code",
   "execution_count": null,
   "metadata": {},
   "outputs": [],
   "source": [
    "class Error(Exception):\n",
    "    pass\n",
    "\n",
    "class ArrayStack:\n",
    "    def __init__(self):\n",
    "        self._data = []\n",
    "        \n",
    "    def __len__(self):\n",
    "        return len(self._data)\n",
    "    \n",
    "    def is_empty(self):\n",
    "        return len(self._data) == 0\n",
    "    \n",
    "    def push(self, e):\n",
    "        self._data.append(e)\n",
    "        \n",
    "    def pop(self):\n",
    "        if self.is_empty():\n",
    "            raise Error(\"Stack is empty.\")\n",
    "        return self._data.pop()\n",
    "    \n",
    "    def top(self):\n",
    "        if self.is_empty():\n",
    "            raise Error(\"Stack is empty.\")\n",
    "        return self._data[-1]\n",
    "    \n",
    "    def display_stack(self):\n",
    "        print(f\"Current stack: {self._data}\")\n"
   ]
  }
 ],
 "metadata": {
  "kernelspec": {
   "display_name": "Python 3",
   "language": "python",
   "name": "python3"
  },
  "language_info": {
   "codemirror_mode": {
    "name": "ipython",
    "version": 3
   },
   "file_extension": ".py",
   "mimetype": "text/x-python",
   "name": "python",
   "nbconvert_exporter": "python",
   "pygments_lexer": "ipython3",
   "version": "3.7.3"
  }
 },
 "nbformat": 4,
 "nbformat_minor": 2
}
