{
 "cells": [
  {
   "cell_type": "markdown",
   "metadata": {},
   "source": [
    "## Stack Using Python List"
   ]
  },
  {
   "cell_type": "code",
   "execution_count": 1,
   "metadata": {},
   "outputs": [],
   "source": [
    "class Error(Exception):\n",
    "    pass\n",
    "\n",
    "class ArrayStack:\n",
    "    '''Simple stack data structure implementation \n",
    "    using Python List.\n",
    "    \n",
    "    _data: List where the data is inserted and popped out.'''\n",
    "    def __init__(self):\n",
    "        self._data = []\n",
    "        \n",
    "    def __len__(self):\n",
    "        return len(self._data)\n",
    "    \n",
    "    def is_empty(self):\n",
    "        '''returns True if the stack is empty.'''\n",
    "        return len(self._data) == 0\n",
    "    \n",
    "    def push(self, e):\n",
    "        '''pushes element e into the top of the stack.'''\n",
    "        self._data.append(e)\n",
    "        \n",
    "    def pop(self):\n",
    "        '''pops and returns the element at the top and removes from the stack.'''\n",
    "        if self.is_empty():\n",
    "            raise Error(\"Stack is empty.\")\n",
    "        return self._data.pop()\n",
    "    \n",
    "    def top(self):\n",
    "        '''returns the element that is at top of stack.'''\n",
    "        if self.is_empty():\n",
    "            raise Error(\"Stack is empty.\")\n",
    "        return self._data[-1]\n",
    "    \n",
    "    def display_stack(self):\n",
    "        '''displays the current stack.'''\n",
    "        print(f\"Current stack: {self._data}\")\n"
   ]
  },
  {
   "cell_type": "code",
   "execution_count": 9,
   "metadata": {},
   "outputs": [],
   "source": [
    "# implement a function that transfers the elements of a stack S into another stack T\n",
    "# so that element at top of S is to be inserted first into T.\n",
    "\n",
    "def transfer(S, T):\n",
    "    '''transfers elements of stack S into stack T so that the top element of S\n",
    "    is first element to be inserted into T.\n",
    "    \n",
    "    S: non-empty stack whose elements to be transfered.\n",
    "    T: another stack that accepts the elements of S from where\n",
    "       elements are transfered.\n",
    "    '''\n",
    "    if S.is_empty():\n",
    "        return\n",
    "    else:\n",
    "        T.push(S.pop())\n",
    "        transfer(S, T)\n"
   ]
  },
  {
   "cell_type": "code",
   "execution_count": 11,
   "metadata": {},
   "outputs": [
    {
     "name": "stdout",
     "output_type": "stream",
     "text": [
      "Current stack: [10, 20, 30]\n",
      "Current stack: [30, 20, 10]\n"
     ]
    }
   ],
   "source": [
    "# Demonstration of transfer(S, T) function\n",
    "S = ArrayStack()\n",
    "T = ArrayStack()\n",
    "S.push(10)\n",
    "S.push(20)\n",
    "S.push(30)\n",
    "S.display_stack()\n",
    "\n",
    "transfer(S, T)\n",
    "T.display_stack()"
   ]
  },
  {
   "cell_type": "code",
   "execution_count": 3,
   "metadata": {},
   "outputs": [],
   "source": [
    "newStack = ArrayStack()"
   ]
  },
  {
   "cell_type": "code",
   "execution_count": 4,
   "metadata": {},
   "outputs": [],
   "source": [
    "newStack.push(34)"
   ]
  },
  {
   "cell_type": "code",
   "execution_count": 5,
   "metadata": {},
   "outputs": [
    {
     "name": "stdout",
     "output_type": "stream",
     "text": [
      "Current stack: [34]\n"
     ]
    }
   ],
   "source": [
    "newStack.display_stack()"
   ]
  },
  {
   "cell_type": "code",
   "execution_count": 9,
   "metadata": {},
   "outputs": [],
   "source": [
    "newStack.push(22)\n",
    "newStack.push(20)\n",
    "newStack.push(12)"
   ]
  },
  {
   "cell_type": "code",
   "execution_count": 10,
   "metadata": {},
   "outputs": [
    {
     "name": "stdout",
     "output_type": "stream",
     "text": [
      "Current stack: [34, 22, 22, 20, 12, 22, 20, 12]\n"
     ]
    }
   ],
   "source": [
    "newStack.display_stack()"
   ]
  },
  {
   "cell_type": "code",
   "execution_count": 11,
   "metadata": {},
   "outputs": [
    {
     "data": {
      "text/plain": [
       "12"
      ]
     },
     "execution_count": 11,
     "metadata": {},
     "output_type": "execute_result"
    }
   ],
   "source": [
    "newStack.pop()"
   ]
  },
  {
   "cell_type": "code",
   "execution_count": 12,
   "metadata": {},
   "outputs": [
    {
     "data": {
      "text/plain": [
       "20"
      ]
     },
     "execution_count": 12,
     "metadata": {},
     "output_type": "execute_result"
    }
   ],
   "source": [
    "newStack.top()"
   ]
  },
  {
   "cell_type": "code",
   "execution_count": 13,
   "metadata": {},
   "outputs": [
    {
     "data": {
      "text/plain": [
       "False"
      ]
     },
     "execution_count": 13,
     "metadata": {},
     "output_type": "execute_result"
    }
   ],
   "source": [
    "newStack.is_empty()"
   ]
  },
  {
   "cell_type": "code",
   "execution_count": null,
   "metadata": {},
   "outputs": [],
   "source": []
  }
 ],
 "metadata": {
  "kernelspec": {
   "display_name": "Python 3",
   "language": "python",
   "name": "python3"
  },
  "language_info": {
   "codemirror_mode": {
    "name": "ipython",
    "version": 3
   },
   "file_extension": ".py",
   "mimetype": "text/x-python",
   "name": "python",
   "nbconvert_exporter": "python",
   "pygments_lexer": "ipython3",
   "version": "3.7.3"
  }
 },
 "nbformat": 4,
 "nbformat_minor": 2
}
