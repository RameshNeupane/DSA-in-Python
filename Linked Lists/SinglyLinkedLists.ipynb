{
 "cells": [
  {
   "cell_type": "markdown",
   "metadata": {},
   "source": [
    "# Singly Linked List"
   ]
  },
  {
   "cell_type": "code",
   "execution_count": 1,
   "metadata": {},
   "outputs": [],
   "source": [
    "class LinkedList:\n",
    "    class _Node:\n",
    "        __slots__ = '_element', '_next'\n",
    "        \n",
    "        def __init__(self, element, next_e):\n",
    "            self._element = element\n",
    "            self._next = next_e\n",
    "               \n",
    "    def __init__(self):\n",
    "        self._head = None\n",
    "        self._tail = None\n",
    "        self._size = 0\n",
    "    \n",
    "    def __len__(self):\n",
    "        return self._size\n",
    "        \n",
    "    def is_empty(self):\n",
    "        return self._size == 0\n",
    "        \n",
    "    def add_first(self, e):\n",
    "        self._head = self._Node(e, self._head)\n",
    "        self._size += 1\n",
    "    \n",
    "    def add_last(self, e):\n",
    "        newest = self._Node(e, None)\n",
    "        if self.is_empty():\n",
    "            self._head = newest\n",
    "        else:\n",
    "            self._tail._next = newest\n",
    "        self._tail = newest\n",
    "        self._size += 1\n",
    "        \n",
    "    def first(self):\n",
    "        if self._head is None:\n",
    "            print('List is empty.')\n",
    "            return\n",
    "        return self._head._element\n",
    "    \n",
    "    def last(self):\n",
    "        if self.is_empty():\n",
    "            print('List is empty.')\n",
    "            return\n",
    "        return self._tail._element\n",
    "    \n",
    "    def remove_first(self):\n",
    "        if self.is_empty():\n",
    "            print('List is empty.')\n",
    "            return\n",
    "        ans = self._head._element\n",
    "        self._head = self._head._next\n",
    "        self._size -= 1\n",
    "        return ans\n",
    "    "
   ]
  },
  {
   "cell_type": "code",
   "execution_count": 2,
   "metadata": {},
   "outputs": [],
   "source": [
    "L = LinkedList()"
   ]
  },
  {
   "cell_type": "code",
   "execution_count": 3,
   "metadata": {},
   "outputs": [],
   "source": [
    "L.add_last(22)"
   ]
  },
  {
   "cell_type": "code",
   "execution_count": 4,
   "metadata": {},
   "outputs": [
    {
     "data": {
      "text/plain": [
       "22"
      ]
     },
     "execution_count": 4,
     "metadata": {},
     "output_type": "execute_result"
    }
   ],
   "source": [
    "L.first()"
   ]
  },
  {
   "cell_type": "code",
   "execution_count": 5,
   "metadata": {},
   "outputs": [],
   "source": [
    "L.add_first(10)"
   ]
  },
  {
   "cell_type": "code",
   "execution_count": 6,
   "metadata": {},
   "outputs": [],
   "source": [
    "L.add_first(20)"
   ]
  },
  {
   "cell_type": "code",
   "execution_count": 7,
   "metadata": {},
   "outputs": [
    {
     "data": {
      "text/plain": [
       "20"
      ]
     },
     "execution_count": 7,
     "metadata": {},
     "output_type": "execute_result"
    }
   ],
   "source": [
    "L.first()"
   ]
  },
  {
   "cell_type": "code",
   "execution_count": 8,
   "metadata": {},
   "outputs": [],
   "source": [
    "L.add_last(30)"
   ]
  },
  {
   "cell_type": "code",
   "execution_count": 9,
   "metadata": {},
   "outputs": [
    {
     "data": {
      "text/plain": [
       "20"
      ]
     },
     "execution_count": 9,
     "metadata": {},
     "output_type": "execute_result"
    }
   ],
   "source": [
    "L.first()"
   ]
  },
  {
   "cell_type": "code",
   "execution_count": 10,
   "metadata": {},
   "outputs": [
    {
     "data": {
      "text/plain": [
       "30"
      ]
     },
     "execution_count": 10,
     "metadata": {},
     "output_type": "execute_result"
    }
   ],
   "source": [
    "L.last()"
   ]
  },
  {
   "cell_type": "code",
   "execution_count": 11,
   "metadata": {},
   "outputs": [
    {
     "data": {
      "text/plain": [
       "20"
      ]
     },
     "execution_count": 11,
     "metadata": {},
     "output_type": "execute_result"
    }
   ],
   "source": [
    "L.remove_first()"
   ]
  },
  {
   "cell_type": "code",
   "execution_count": 12,
   "metadata": {},
   "outputs": [
    {
     "data": {
      "text/plain": [
       "10"
      ]
     },
     "execution_count": 12,
     "metadata": {},
     "output_type": "execute_result"
    }
   ],
   "source": [
    "L.first()"
   ]
  },
  {
   "cell_type": "markdown",
   "metadata": {},
   "source": [
    "# Stack With Singly Linked List"
   ]
  },
  {
   "cell_type": "code",
   "execution_count": 48,
   "metadata": {},
   "outputs": [],
   "source": [
    "class LinkedStack:\n",
    "    class _Node:\n",
    "        __slots__ = '_element', '_next'\n",
    "        \n",
    "        def __init__(self, element, next_e):\n",
    "            self._element = element\n",
    "            self._next = next_e\n",
    "            \n",
    "    def __init__(self):\n",
    "        self._head = None\n",
    "#         self._tail = None\n",
    "        self._size = 0\n",
    "    \n",
    "    def __len__(self):\n",
    "        return self._size\n",
    "    \n",
    "    def is_empty(self):\n",
    "        return self._size == 0\n",
    "    \n",
    "    def push(self, e):\n",
    "        self._head = self._Node(e, self._head)\n",
    "        self._size += 1\n",
    "    \n",
    "    def pop(self):\n",
    "        if self.is_empty():\n",
    "            print('Linked Stack is empty.')\n",
    "            return\n",
    "        ans = self._head._element\n",
    "        self._head = self._head._next\n",
    "        self._size -= 1\n",
    "        return ans\n",
    "    \n",
    "    def top(self):\n",
    "        if self.is_empty():\n",
    "            print('Linked Stack is empty.')\n",
    "            return \n",
    "        return self._head._element\n",
    "    \n",
    "#     def display_linked_stack(self):\n",
    "#         if self.is_empty():\n",
    "#             print('Linked Stack is empty.')\n",
    "#             return\n",
    "#         for i in range(self._size):\n",
    "#             print(f'{self._head._element} -> ', end = '')\n",
    "#             self._head = self._head._next\n",
    "#         print('None')\n",
    "    "
   ]
  },
  {
   "cell_type": "code",
   "execution_count": 49,
   "metadata": {},
   "outputs": [],
   "source": [
    "ls = LinkedStack()"
   ]
  },
  {
   "cell_type": "code",
   "execution_count": 50,
   "metadata": {},
   "outputs": [],
   "source": [
    "ls.push(10)"
   ]
  },
  {
   "cell_type": "code",
   "execution_count": 51,
   "metadata": {},
   "outputs": [
    {
     "data": {
      "text/plain": [
       "10"
      ]
     },
     "execution_count": 51,
     "metadata": {},
     "output_type": "execute_result"
    }
   ],
   "source": [
    "ls.top()"
   ]
  },
  {
   "cell_type": "code",
   "execution_count": 52,
   "metadata": {},
   "outputs": [],
   "source": [
    "ls.push(20)"
   ]
  },
  {
   "cell_type": "code",
   "execution_count": 53,
   "metadata": {},
   "outputs": [
    {
     "data": {
      "text/plain": [
       "20"
      ]
     },
     "execution_count": 53,
     "metadata": {},
     "output_type": "execute_result"
    }
   ],
   "source": [
    "ls.top()"
   ]
  },
  {
   "cell_type": "code",
   "execution_count": 54,
   "metadata": {},
   "outputs": [
    {
     "data": {
      "text/plain": [
       "20"
      ]
     },
     "execution_count": 54,
     "metadata": {},
     "output_type": "execute_result"
    }
   ],
   "source": [
    "ls.pop()"
   ]
  },
  {
   "cell_type": "code",
   "execution_count": 55,
   "metadata": {},
   "outputs": [
    {
     "data": {
      "text/plain": [
       "10"
      ]
     },
     "execution_count": 55,
     "metadata": {},
     "output_type": "execute_result"
    }
   ],
   "source": [
    "ls.top()"
   ]
  },
  {
   "cell_type": "code",
   "execution_count": 56,
   "metadata": {},
   "outputs": [],
   "source": [
    "# ls.display_linked_stack()"
   ]
  },
  {
   "cell_type": "code",
   "execution_count": 57,
   "metadata": {},
   "outputs": [],
   "source": [
    "ls.push(20)\n",
    "ls.push(30)"
   ]
  },
  {
   "cell_type": "code",
   "execution_count": 58,
   "metadata": {},
   "outputs": [],
   "source": [
    "# ls.display_linked_stack()"
   ]
  },
  {
   "cell_type": "code",
   "execution_count": 59,
   "metadata": {},
   "outputs": [
    {
     "data": {
      "text/plain": [
       "30"
      ]
     },
     "execution_count": 59,
     "metadata": {},
     "output_type": "execute_result"
    }
   ],
   "source": [
    "ls.top()"
   ]
  },
  {
   "cell_type": "markdown",
   "metadata": {},
   "source": [
    "# Queue With Singly Linked List"
   ]
  },
  {
   "cell_type": "code",
   "execution_count": 22,
   "metadata": {},
   "outputs": [],
   "source": [
    "class LinkedQueue:\n",
    "    class _Node:\n",
    "        __slots__ = '_element', '_next'\n",
    "        \n",
    "        def __init__(self, element, next_e):\n",
    "            self._element = element\n",
    "            self._next = next_e\n",
    "        \n",
    "    def __init__(self):\n",
    "        self._head = None\n",
    "        self._tail = None\n",
    "        self._size = 0\n",
    "    \n",
    "    def __len__(self):\n",
    "        return self._size\n",
    "    \n",
    "    def is_empty(self):\n",
    "        return self._size == 0\n",
    "    \n",
    "    def enqueue(self, e):\n",
    "        newest = self._Node(e, None)\n",
    "        if self.is_empty():\n",
    "            self._head = newest\n",
    "        else:\n",
    "            self._tail._next = newest\n",
    "        self._tail = newest\n",
    "        self._size += 1\n",
    "    \n",
    "    def dequeue(self):\n",
    "        if self.is_empty():\n",
    "            print('Linked Queue is empty.')\n",
    "            self._tail = None\n",
    "            return\n",
    "        ans = self._head._element\n",
    "        self._head = self._head._next\n",
    "        self._size -= 1\n",
    "        return ans\n",
    "    \n",
    "    def first(self):\n",
    "        return self._head._element\n",
    "    "
   ]
  },
  {
   "cell_type": "code",
   "execution_count": 23,
   "metadata": {},
   "outputs": [],
   "source": [
    "lq = LinkedQueue()"
   ]
  },
  {
   "cell_type": "code",
   "execution_count": 24,
   "metadata": {},
   "outputs": [],
   "source": [
    "lq.enqueue(11)"
   ]
  },
  {
   "cell_type": "code",
   "execution_count": 25,
   "metadata": {},
   "outputs": [],
   "source": [
    "lq.enqueue(22)"
   ]
  },
  {
   "cell_type": "code",
   "execution_count": 26,
   "metadata": {},
   "outputs": [
    {
     "data": {
      "text/plain": [
       "11"
      ]
     },
     "execution_count": 26,
     "metadata": {},
     "output_type": "execute_result"
    }
   ],
   "source": [
    "lq.first()"
   ]
  },
  {
   "cell_type": "code",
   "execution_count": 27,
   "metadata": {},
   "outputs": [
    {
     "data": {
      "text/plain": [
       "11"
      ]
     },
     "execution_count": 27,
     "metadata": {},
     "output_type": "execute_result"
    }
   ],
   "source": [
    "lq.dequeue()"
   ]
  },
  {
   "cell_type": "code",
   "execution_count": null,
   "metadata": {},
   "outputs": [],
   "source": []
  }
 ],
 "metadata": {
  "@webio": {
   "lastCommId": null,
   "lastKernelId": null
  },
  "kernelspec": {
   "display_name": "Python 3",
   "language": "python",
   "name": "python3"
  },
  "language_info": {
   "codemirror_mode": {
    "name": "ipython",
    "version": 3
   },
   "file_extension": ".py",
   "mimetype": "text/x-python",
   "name": "python",
   "nbconvert_exporter": "python",
   "pygments_lexer": "ipython3",
   "version": "3.7.3"
  }
 },
 "nbformat": 4,
 "nbformat_minor": 2
}
